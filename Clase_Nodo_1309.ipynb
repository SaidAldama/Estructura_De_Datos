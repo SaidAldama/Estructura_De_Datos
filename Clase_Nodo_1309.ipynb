{
  "nbformat": 4,
  "nbformat_minor": 0,
  "metadata": {
    "colab": {
      "name": "Clase_Nodo_1309.ipynb",
      "provenance": [],
      "authorship_tag": "ABX9TyMd+MeupE3/4h9h95VdKzkK",
      "include_colab_link": true
    },
    "kernelspec": {
      "name": "python3",
      "display_name": "Python 3"
    },
    "language_info": {
      "name": "python"
    }
  },
  "cells": [
    {
      "cell_type": "markdown",
      "metadata": {
        "id": "view-in-github",
        "colab_type": "text"
      },
      "source": [
        "<a href=\"https://colab.research.google.com/github/SaidAldama/Estructura_De_Datos/blob/Clase_nodo/Clase_Nodo_1309.ipynb\" target=\"_parent\"><img src=\"https://colab.research.google.com/assets/colab-badge.svg\" alt=\"Open In Colab\"/></a>"
      ]
    },
    {
      "cell_type": "code",
      "metadata": {
        "id": "d2BzIWx3Yk3q"
      },
      "source": [
        "class Nodo:\n",
        "  def __init__(self,value,siguiente = None):\n",
        "    self.data= value\n",
        "    self.next= siguiente\n",
        "\n",
        "class LinkedList:\n",
        "  def __init__(self):\n",
        "    self.head = None\n",
        "\n",
        "  def is_empty (self):\n",
        "    return self.head == None\n",
        "\n",
        "  def get_tail(self):\n",
        "    if self.is_empty():\n",
        "      return None\n",
        "    else:\n",
        "      curr_node = self.head\n",
        "      while curr_node.next != None:\n",
        "        curr_node = curr_node.next\n",
        "      return curr_node\n",
        "\n",
        "\n",
        "\n",
        "  def append( self, value):\n",
        "    if self.head == None:\n",
        "\n",
        "        self.head = Nodo(value)\n",
        "    else:\n",
        "      curr_node = self.head\n",
        "      while curr_node.next != None:\n",
        "        curr_node = curr_node.next\n",
        "      curr_node.next = Nodo(value)\n",
        "\n",
        "\n",
        "  def transversal (self):\n",
        "    curr_node = self.head\n",
        "    while curr_node != None:\n",
        "      print(f\"| {curr_node.data} | -->\", end=\"\")\n",
        "      curr_node = curr_node.next\n",
        "    print (\"\")\n",
        "\n",
        "\n",
        "  def remove ( self , value):\n",
        "    if self.head == None:\n",
        "      print(\"Lista sin elemntos, no se pudo remover nada\")\n",
        "    else:\n",
        "      curr_node = self.head\n",
        "      aux = None\n",
        "      while curr_node.data != value:\n",
        "        aux = curr_node\n",
        "        curr_node = curr_node.next\n",
        "\n",
        "\n",
        "\n",
        "      if curr_node != None:\n",
        "        aux.next = curr_node.next\n",
        "        curr_node = None\n",
        "\n",
        "  def preppend ( self, value):\n",
        "    if self.head != None:\n",
        "      print(\"Vacio\")\n",
        "    else:\n",
        "      aux = self.head\n",
        "      self.head = Nodo (value,aux)"
      ],
      "execution_count": 8,
      "outputs": []
    },
    {
      "cell_type": "code",
      "metadata": {
        "colab": {
          "base_uri": "https://localhost:8080/"
        },
        "id": "PmrniVSaYq5P",
        "outputId": "ff1c7e19-3b19-4503-ff3b-0f11186192f8"
      },
      "source": [
        "lista = LinkedList()\n",
        "\n",
        "if lista.is_empty:\n",
        "  print(\"La lista no contiene elemntos\")\n",
        "else:\n",
        "  print(\"La lista contiene elementos\")\n",
        "\n",
        "lista.append(10)\n",
        "lista.append(110)\n",
        "lista.append(100)\n",
        "lista.append(20)\n",
        "nodo = lista.get_tail()\n",
        "if nodo != None:\n",
        "  print(nodo.data)\n",
        "else: \n",
        "  print(\"La lista no contiene elementos\")\n",
        "\n",
        "lista.transversal()\n",
        "lista.transversal()\n",
        "lista.preppend(6)\n",
        "lista.remove(20)"
      ],
      "execution_count": 9,
      "outputs": [
        {
          "output_type": "stream",
          "name": "stdout",
          "text": [
            "La lista no contiene elemntos\n",
            "20\n",
            "| 10 | -->| 110 | -->| 100 | -->| 20 | -->\n",
            "| 10 | -->| 110 | -->| 100 | -->| 20 | -->\n",
            "Vacio\n"
          ]
        }
      ]
    }
  ]
}